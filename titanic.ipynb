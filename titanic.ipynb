{
 "cells": [
  {
   "cell_type": "code",
   "execution_count": 1,
   "id": "8c64bd7d",
   "metadata": {
    "execution": {
     "iopub.execute_input": "2024-02-21T18:25:44.202406Z",
     "iopub.status.busy": "2024-02-21T18:25:44.202012Z",
     "iopub.status.idle": "2024-02-21T18:25:44.207886Z",
     "shell.execute_reply": "2024-02-21T18:25:44.206693Z"
    },
    "papermill": {
     "duration": 0.016349,
     "end_time": "2024-02-21T18:25:44.210724",
     "exception": false,
     "start_time": "2024-02-21T18:25:44.194375",
     "status": "completed"
    },
    "tags": []
   },
   "outputs": [],
   "source": [
    "# TODO: Add Cross-Validation for kernels"
   ]
  },
  {
   "cell_type": "code",
   "execution_count": 2,
   "id": "8abec4b0",
   "metadata": {
    "_cell_guid": "b1076dfc-b9ad-4769-8c92-a6c4dae69d19",
    "_uuid": "8f2839f25d086af736a60e9eeb907d3b93b6e0e5",
    "execution": {
     "iopub.execute_input": "2024-02-21T18:25:44.222758Z",
     "iopub.status.busy": "2024-02-21T18:25:44.222235Z",
     "iopub.status.idle": "2024-02-21T18:25:46.785498Z",
     "shell.execute_reply": "2024-02-21T18:25:46.783701Z"
    },
    "papermill": {
     "duration": 2.572959,
     "end_time": "2024-02-21T18:25:46.788805",
     "exception": false,
     "start_time": "2024-02-21T18:25:44.215846",
     "status": "completed"
    },
    "tags": []
   },
   "outputs": [
    {
     "name": "stdout",
     "output_type": "stream",
     "text": [
      "/kaggle/input/titanic/train.csv\n",
      "/kaggle/input/titanic/test.csv\n",
      "/kaggle/input/titanic/gender_submission.csv\n"
     ]
    }
   ],
   "source": [
    "# This Python 3 environment comes with many helpful analytics libraries installed\n",
    "# It is defined by the kaggle/python Docker image: https://github.com/kaggle/docker-python\n",
    "# For example, here's several helpful packages to load\n",
    "\n",
    "import numpy as np # linear algebra\n",
    "import pandas as pd # data processing, CSV file I/O (e.g. pd.read_csv)\n",
    "from sklearn.preprocessing import MinMaxScaler\n",
    "\n",
    "# Input data files are available in the read-only \"../input/\" directory\n",
    "# For example, running this (by clicking run or pressing Shift+Enter) will list all files under the input directory\n",
    "\n",
    "import os\n",
    "for dirname, _, filenames in os.walk('/kaggle/input'):\n",
    "    for filename in filenames:\n",
    "        print(os.path.join(dirname, filename))\n",
    "\n",
    "# You can write up to 20GB to the current directory (/kaggle/working/) that gets preserved as output when you create a version using \"Save & Run All\" \n",
    "# You can also write temporary files to /kaggle/temp/, but they won't be saved outside of the current session"
   ]
  },
  {
   "cell_type": "code",
   "execution_count": 3,
   "id": "d6a38e02",
   "metadata": {
    "execution": {
     "iopub.execute_input": "2024-02-21T18:25:46.801152Z",
     "iopub.status.busy": "2024-02-21T18:25:46.800397Z",
     "iopub.status.idle": "2024-02-21T18:25:46.833631Z",
     "shell.execute_reply": "2024-02-21T18:25:46.832201Z"
    },
    "papermill": {
     "duration": 0.043242,
     "end_time": "2024-02-21T18:25:46.836946",
     "exception": false,
     "start_time": "2024-02-21T18:25:46.793704",
     "status": "completed"
    },
    "tags": []
   },
   "outputs": [],
   "source": [
    "train_data = pd.read_csv(\"/kaggle/input/titanic/train.csv\")\n",
    "test_data = pd.read_csv(\"/kaggle/input/titanic/test.csv\")"
   ]
  },
  {
   "cell_type": "code",
   "execution_count": 4,
   "id": "b37df192",
   "metadata": {
    "execution": {
     "iopub.execute_input": "2024-02-21T18:25:46.849320Z",
     "iopub.status.busy": "2024-02-21T18:25:46.848894Z",
     "iopub.status.idle": "2024-02-21T18:25:46.867377Z",
     "shell.execute_reply": "2024-02-21T18:25:46.865888Z"
    },
    "papermill": {
     "duration": 0.028061,
     "end_time": "2024-02-21T18:25:46.870292",
     "exception": false,
     "start_time": "2024-02-21T18:25:46.842231",
     "status": "completed"
    },
    "tags": []
   },
   "outputs": [
    {
     "name": "stdout",
     "output_type": "stream",
     "text": [
      "% of women who survived: 0.7420382165605095\n"
     ]
    }
   ],
   "source": [
    "women = train_data.loc[train_data.Sex == 'female'][\"Survived\"]\n",
    "rate_women = sum(women)/len(women)\n",
    "\n",
    "print(\"% of women who survived:\", rate_women)"
   ]
  },
  {
   "cell_type": "code",
   "execution_count": 5,
   "id": "fa74a5c3",
   "metadata": {
    "execution": {
     "iopub.execute_input": "2024-02-21T18:25:46.883035Z",
     "iopub.status.busy": "2024-02-21T18:25:46.881760Z",
     "iopub.status.idle": "2024-02-21T18:25:46.903105Z",
     "shell.execute_reply": "2024-02-21T18:25:46.901632Z"
    },
    "papermill": {
     "duration": 0.031125,
     "end_time": "2024-02-21T18:25:46.906414",
     "exception": false,
     "start_time": "2024-02-21T18:25:46.875289",
     "status": "completed"
    },
    "tags": []
   },
   "outputs": [],
   "source": [
    "train_data['hasAge'] = ~train_data.Age.isna()\n",
    "test_data['hasAge'] = ~test_data.Age.isna()\n",
    "\n",
    "# Initialize the MinMaxScaler\n",
    "scaler = MinMaxScaler(feature_range=(0, 1))\n",
    "\n",
    "# Fill NaNs without using inplace=True\n",
    "train_data['Age'] = train_data['Age'].fillna(train_data['Age'].mean())\n",
    "test_data['Age'] = test_data['Age'].fillna(test_data['Age'].mean())\n",
    "\n",
    "# Fit and transform the data for training and testing datasets\n",
    "train_data['Age_normalized'] = scaler.fit_transform(train_data[['Age']].values.reshape(-1, 1))\n",
    "test_data['Age_normalized'] = scaler.transform(test_data[['Age']].values.reshape(-1, 1))\n",
    "\n",
    "# Note: Use scaler.fit_transform() on the training data to fit the scaler and transform the data.\n",
    "# Use scaler.transform() on the test data to apply the same scaling based on the training data."
   ]
  },
  {
   "cell_type": "code",
   "execution_count": 6,
   "id": "8d3c471d",
   "metadata": {
    "execution": {
     "iopub.execute_input": "2024-02-21T18:25:46.918802Z",
     "iopub.status.busy": "2024-02-21T18:25:46.918280Z",
     "iopub.status.idle": "2024-02-21T18:25:46.953196Z",
     "shell.execute_reply": "2024-02-21T18:25:46.951598Z"
    },
    "papermill": {
     "duration": 0.044889,
     "end_time": "2024-02-21T18:25:46.956162",
     "exception": false,
     "start_time": "2024-02-21T18:25:46.911273",
     "status": "completed"
    },
    "tags": []
   },
   "outputs": [
    {
     "data": {
      "text/html": [
       "<div>\n",
       "<style scoped>\n",
       "    .dataframe tbody tr th:only-of-type {\n",
       "        vertical-align: middle;\n",
       "    }\n",
       "\n",
       "    .dataframe tbody tr th {\n",
       "        vertical-align: top;\n",
       "    }\n",
       "\n",
       "    .dataframe thead th {\n",
       "        text-align: right;\n",
       "    }\n",
       "</style>\n",
       "<table border=\"1\" class=\"dataframe\">\n",
       "  <thead>\n",
       "    <tr style=\"text-align: right;\">\n",
       "      <th></th>\n",
       "      <th>PassengerId</th>\n",
       "      <th>Survived</th>\n",
       "      <th>Pclass</th>\n",
       "      <th>Name</th>\n",
       "      <th>Sex</th>\n",
       "      <th>Age</th>\n",
       "      <th>SibSp</th>\n",
       "      <th>Parch</th>\n",
       "      <th>Ticket</th>\n",
       "      <th>Fare</th>\n",
       "      <th>Cabin</th>\n",
       "      <th>Embarked</th>\n",
       "      <th>hasAge</th>\n",
       "      <th>Age_normalized</th>\n",
       "    </tr>\n",
       "  </thead>\n",
       "  <tbody>\n",
       "    <tr>\n",
       "      <th>0</th>\n",
       "      <td>1</td>\n",
       "      <td>0</td>\n",
       "      <td>3</td>\n",
       "      <td>Braund, Mr. Owen Harris</td>\n",
       "      <td>male</td>\n",
       "      <td>22.0</td>\n",
       "      <td>1</td>\n",
       "      <td>0</td>\n",
       "      <td>A/5 21171</td>\n",
       "      <td>0.014151</td>\n",
       "      <td>NaN</td>\n",
       "      <td>S</td>\n",
       "      <td>True</td>\n",
       "      <td>0.271174</td>\n",
       "    </tr>\n",
       "    <tr>\n",
       "      <th>1</th>\n",
       "      <td>2</td>\n",
       "      <td>1</td>\n",
       "      <td>1</td>\n",
       "      <td>Cumings, Mrs. John Bradley (Florence Briggs Th...</td>\n",
       "      <td>female</td>\n",
       "      <td>38.0</td>\n",
       "      <td>1</td>\n",
       "      <td>0</td>\n",
       "      <td>PC 17599</td>\n",
       "      <td>0.139136</td>\n",
       "      <td>C85</td>\n",
       "      <td>C</td>\n",
       "      <td>True</td>\n",
       "      <td>0.472229</td>\n",
       "    </tr>\n",
       "    <tr>\n",
       "      <th>2</th>\n",
       "      <td>3</td>\n",
       "      <td>1</td>\n",
       "      <td>3</td>\n",
       "      <td>Heikkinen, Miss. Laina</td>\n",
       "      <td>female</td>\n",
       "      <td>26.0</td>\n",
       "      <td>0</td>\n",
       "      <td>0</td>\n",
       "      <td>STON/O2. 3101282</td>\n",
       "      <td>0.015469</td>\n",
       "      <td>NaN</td>\n",
       "      <td>S</td>\n",
       "      <td>True</td>\n",
       "      <td>0.321438</td>\n",
       "    </tr>\n",
       "    <tr>\n",
       "      <th>3</th>\n",
       "      <td>4</td>\n",
       "      <td>1</td>\n",
       "      <td>1</td>\n",
       "      <td>Futrelle, Mrs. Jacques Heath (Lily May Peel)</td>\n",
       "      <td>female</td>\n",
       "      <td>35.0</td>\n",
       "      <td>1</td>\n",
       "      <td>0</td>\n",
       "      <td>113803</td>\n",
       "      <td>0.103644</td>\n",
       "      <td>C123</td>\n",
       "      <td>S</td>\n",
       "      <td>True</td>\n",
       "      <td>0.434531</td>\n",
       "    </tr>\n",
       "    <tr>\n",
       "      <th>4</th>\n",
       "      <td>5</td>\n",
       "      <td>0</td>\n",
       "      <td>3</td>\n",
       "      <td>Allen, Mr. William Henry</td>\n",
       "      <td>male</td>\n",
       "      <td>35.0</td>\n",
       "      <td>0</td>\n",
       "      <td>0</td>\n",
       "      <td>373450</td>\n",
       "      <td>0.015713</td>\n",
       "      <td>NaN</td>\n",
       "      <td>S</td>\n",
       "      <td>True</td>\n",
       "      <td>0.434531</td>\n",
       "    </tr>\n",
       "  </tbody>\n",
       "</table>\n",
       "</div>"
      ],
      "text/plain": [
       "   PassengerId  Survived  Pclass  \\\n",
       "0            1         0       3   \n",
       "1            2         1       1   \n",
       "2            3         1       3   \n",
       "3            4         1       1   \n",
       "4            5         0       3   \n",
       "\n",
       "                                                Name     Sex   Age  SibSp  \\\n",
       "0                            Braund, Mr. Owen Harris    male  22.0      1   \n",
       "1  Cumings, Mrs. John Bradley (Florence Briggs Th...  female  38.0      1   \n",
       "2                             Heikkinen, Miss. Laina  female  26.0      0   \n",
       "3       Futrelle, Mrs. Jacques Heath (Lily May Peel)  female  35.0      1   \n",
       "4                           Allen, Mr. William Henry    male  35.0      0   \n",
       "\n",
       "   Parch            Ticket      Fare Cabin Embarked  hasAge  Age_normalized  \n",
       "0      0         A/5 21171  0.014151   NaN        S    True        0.271174  \n",
       "1      0          PC 17599  0.139136   C85        C    True        0.472229  \n",
       "2      0  STON/O2. 3101282  0.015469   NaN        S    True        0.321438  \n",
       "3      0            113803  0.103644  C123        S    True        0.434531  \n",
       "4      0            373450  0.015713   NaN        S    True        0.434531  "
      ]
     },
     "execution_count": 6,
     "metadata": {},
     "output_type": "execute_result"
    }
   ],
   "source": [
    "# Initialize Fare Scaler\n",
    "fareScaler = MinMaxScaler(feature_range=(0,1))\n",
    "\n",
    "# Fill NaNs without using inplace=True\n",
    "train_data['Fare'] = train_data['Fare'].fillna(train_data['Fare'].mean())\n",
    "test_data['Fare'] = test_data['Fare'].fillna(test_data['Fare'].mean())\n",
    "\n",
    "# Fit and transform the data for training and testing\n",
    "train_data['Fare'] = fareScaler.fit_transform(train_data[['Fare']].values.reshape(-1,1))\n",
    "test_data['Fare'] = fareScaler.transform(test_data[['Fare']].values.reshape(-1,1))\n",
    "\n",
    "train_data.head()"
   ]
  },
  {
   "cell_type": "code",
   "execution_count": 7,
   "id": "68169c21",
   "metadata": {
    "execution": {
     "iopub.execute_input": "2024-02-21T18:25:46.968501Z",
     "iopub.status.busy": "2024-02-21T18:25:46.968075Z",
     "iopub.status.idle": "2024-02-21T18:25:47.302849Z",
     "shell.execute_reply": "2024-02-21T18:25:47.301713Z"
    },
    "papermill": {
     "duration": 0.345561,
     "end_time": "2024-02-21T18:25:47.306950",
     "exception": false,
     "start_time": "2024-02-21T18:25:46.961389",
     "status": "completed"
    },
    "tags": []
   },
   "outputs": [],
   "source": [
    "from sklearn import svm\n",
    "\n",
    "y = train_data[\"Survived\"]\n",
    "\n",
    "#features = [\"Pclass\", \"Sex\", \"SibSp\", \"Parch\", \"Age_normalized\", \"Embarked\", \"Fare\", \"hasAge\"]\n",
    "features = [\"Pclass\", \"Sex\", \"SibSp\", \"Parch\", \"Age_normalized\", \"Fare\"]\n",
    "X = pd.get_dummies(train_data[features])\n",
    "X_test = pd.get_dummies(test_data[features])\n",
    "\n",
    "model = svm.SVC(C=10, kernel=\"rbf\")\n",
    "model.fit(X, y)\n",
    "submissionPredictions = model.predict(X_test)"
   ]
  },
  {
   "cell_type": "code",
   "execution_count": 8,
   "id": "c3556893",
   "metadata": {
    "execution": {
     "iopub.execute_input": "2024-02-21T18:25:47.325363Z",
     "iopub.status.busy": "2024-02-21T18:25:47.324596Z",
     "iopub.status.idle": "2024-02-21T18:25:47.356225Z",
     "shell.execute_reply": "2024-02-21T18:25:47.354716Z"
    },
    "papermill": {
     "duration": 0.044636,
     "end_time": "2024-02-21T18:25:47.359947",
     "exception": false,
     "start_time": "2024-02-21T18:25:47.315311",
     "status": "completed"
    },
    "tags": []
   },
   "outputs": [
    {
     "name": "stdout",
     "output_type": "stream",
     "text": [
      "Accuracy:0.8316498316498316\n"
     ]
    }
   ],
   "source": [
    "# CHECK FOR OVERFITTING\n",
    "from sklearn.metrics import accuracy_score\n",
    "\n",
    "training_predictions = model.predict(X)\n",
    "training_truth = y.to_numpy()\n",
    "\n",
    "accuracy = accuracy_score(training_truth, training_predictions)\n",
    "print(f\"Accuracy:{accuracy}\")"
   ]
  },
  {
   "cell_type": "code",
   "execution_count": 9,
   "id": "6c78826e",
   "metadata": {
    "execution": {
     "iopub.execute_input": "2024-02-21T18:25:47.377941Z",
     "iopub.status.busy": "2024-02-21T18:25:47.376689Z",
     "iopub.status.idle": "2024-02-21T18:25:47.399467Z",
     "shell.execute_reply": "2024-02-21T18:25:47.397955Z"
    },
    "papermill": {
     "duration": 0.038564,
     "end_time": "2024-02-21T18:25:47.404349",
     "exception": false,
     "start_time": "2024-02-21T18:25:47.365785",
     "status": "completed"
    },
    "tags": []
   },
   "outputs": [],
   "source": [
    "# CROSS-VALIDATION\n",
    "\n",
    "def splitIntoGroups(data, numGroups):\n",
    "    df_shuffled = data.sample(frac=1, random_state=21).reset_index(drop=True)\n",
    "    groups = np.array_split(df_shuffled, 5)\n",
    "    return groups\n",
    "\n",
    "def singleHyperTrain(train, test):\n",
    "    topAccuracy = {\"accuracy\": 0}\n",
    "    optimalWeights = []\n",
    "    # CValues = [.1, 1, 10, 100, 1000]\n",
    "    CValues = [.1, 1, 10, 100, 200]\n",
    "    #kernels = [\"linear\", \"poly\", \"rbf\", \"sigmoid\"]\n",
    "    kernels = [\"poly\", \"rbf\"]\n",
    "    for i in CValues:\n",
    "        for j in kernels:\n",
    "            y = train[\"Survived\"]\n",
    "            y_test = test[\"Survived\"]\n",
    "            # features = [\"Pclass\", \"Sex\", \"SibSp\", \"Parch\", \"Age_normalized\", \"Embarked\", \"Fare\", \"hasAge\"]\n",
    "            features = [\"Pclass\", \"Sex\", \"SibSp\", \"Parch\", \"Age_normalized\", \"Fare\"]\n",
    "            X = pd.get_dummies(train[features])\n",
    "            X_test = pd.get_dummies(test[features])\n",
    "            testModel = svm.SVC(C=i, kernel=j)\n",
    "            testModel.fit(X, y)\n",
    "            predictions = model.predict(X_test)\n",
    "            accuracy = accuracy_score(y_test.to_numpy(), predictions)\n",
    "            if accuracy > topAccuracy[\"accuracy\"]:\n",
    "                topAccuracy = {\"accuracy\": accuracy, \"C\": i, \"kernel\": j}\n",
    "            print(f\"{accuracy} with C: {i}, kernel: {j}\")\n",
    "    print(f\"top accuracy: {topAccuracy['accuracy']} with C = {topAccuracy['C']} and {topAccuracy['kernel']} kernel\")\n",
    "        \n",
    "def crossTrain(data):\n",
    "    for i in range(0, len(data)):\n",
    "        trainGroup = pd.concat([groupsOfData[j] for j in range(len(groupsOfData)) if j != i])\n",
    "        singleHyperTrain(trainGroup, groupsOfData[i])\n",
    "    \n",
    "        \n",
    "# groupsOfData = splitIntoGroups(train_data, 5)\n",
    "# crossTrain(groupsOfData)"
   ]
  },
  {
   "cell_type": "code",
   "execution_count": 10,
   "id": "236b85e5",
   "metadata": {
    "execution": {
     "iopub.execute_input": "2024-02-21T18:25:47.422881Z",
     "iopub.status.busy": "2024-02-21T18:25:47.421627Z",
     "iopub.status.idle": "2024-02-21T18:25:47.434621Z",
     "shell.execute_reply": "2024-02-21T18:25:47.433422Z"
    },
    "papermill": {
     "duration": 0.024598,
     "end_time": "2024-02-21T18:25:47.437293",
     "exception": false,
     "start_time": "2024-02-21T18:25:47.412695",
     "status": "completed"
    },
    "tags": []
   },
   "outputs": [
    {
     "name": "stdout",
     "output_type": "stream",
     "text": [
      "Your submission was successfully saved!\n"
     ]
    }
   ],
   "source": [
    "# CREATE PREDICTIONS\n",
    "output = pd.DataFrame({'PassengerId': test_data.PassengerId, 'Survived': submissionPredictions})\n",
    "output.to_csv('submission.csv', index=False)\n",
    "print(\"Your submission was successfully saved!\")"
   ]
  }
 ],
 "metadata": {
  "kaggle": {
   "accelerator": "none",
   "dataSources": [
    {
     "databundleVersionId": 26502,
     "sourceId": 3136,
     "sourceType": "competition"
    }
   ],
   "dockerImageVersionId": 30646,
   "isGpuEnabled": false,
   "isInternetEnabled": true,
   "language": "python",
   "sourceType": "notebook"
  },
  "kernelspec": {
   "display_name": "Python 3",
   "language": "python",
   "name": "python3"
  },
  "language_info": {
   "codemirror_mode": {
    "name": "ipython",
    "version": 3
   },
   "file_extension": ".py",
   "mimetype": "text/x-python",
   "name": "python",
   "nbconvert_exporter": "python",
   "pygments_lexer": "ipython3",
   "version": "3.10.13"
  },
  "papermill": {
   "default_parameters": {},
   "duration": 7.301728,
   "end_time": "2024-02-21T18:25:48.065875",
   "environment_variables": {},
   "exception": null,
   "input_path": "__notebook__.ipynb",
   "output_path": "__notebook__.ipynb",
   "parameters": {},
   "start_time": "2024-02-21T18:25:40.764147",
   "version": "2.5.0"
  }
 },
 "nbformat": 4,
 "nbformat_minor": 5
}
